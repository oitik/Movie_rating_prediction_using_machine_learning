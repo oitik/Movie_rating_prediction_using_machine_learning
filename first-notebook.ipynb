{
 "cells": [
  {
   "cell_type": "markdown",
   "metadata": {},
   "source": [
    "# Predicting the rating of a movie using machine learning algorithm.\n",
    "\n",
    "In this notebook, we're going to go through an example machine learning project with the goal of predicting the rating of a movie.\n",
    "\n",
    "## 1.Problem definition\n",
    "\n",
    " Movie rating prediction based on review using machine learning & deep learning model\n",
    "\n",
    "## 2.Data\n",
    "\n",
    "This data set is downloaded from IMDb movie reviews dataset.\n",
    "\n",
    "Link: https://ieee-dataport.org/open-access/imdb-movie-reviews-dataset\n",
    "\n",
    "### Primary Target:\n",
    "Predict rating of one movie’s rating based on data.\n",
    "\n",
    "### Further Target:\n",
    "Predict rating of different movies.\n",
    "\n",
    "\n",
    "\n",
    "## 3.Steps\n",
    "Step1: download the data and there will be a lot of movie’s csv file where we need to extract review and rating.\n",
    "\n",
    "Step2: after extracting feature we need to apply world embedding process to create train and test data.\n",
    "Word embedding process:\n",
    "\n",
    "* 1.https://www.turing.com/kb/guide-on-word-embeddings-in-nlp\n",
    "* 2.https://www.geeksforgeeks.org/word-embeddings-in-nlp/\n",
    "* 3.https://towardsdatascience.com/introduction-to-word-embedding-and-word2vec-652d0c2060fa\n",
    "* 4.https://machinelearningmastery.com/what-are-word-embeddings/\n",
    "\n",
    "## 4.Modeling\n",
    "\n",
    "Design models using machine learning algorithms:\n",
    "\n",
    "    1. Use ML algorithms like SVM\n",
    "    2. Use RNN model like LSTM\n",
    "\n",
    "## 5. Evaluating\n",
    "\n",
    "## 6. Improving\n",
    "\n",
    "Imporving machine learning model using:\n",
    "\n",
    "* `Grid Search CV`\n",
    "\n",
    " "
   ]
  },
  {
   "cell_type": "markdown",
   "metadata": {},
   "source": [
    "### Preparing the tools:\n",
    "\n",
    "We're going to use `pandas` `numpy` `matplotlib` for data manipulation and analysis."
   ]
  },
  {
   "cell_type": "code",
   "execution_count": 1,
   "metadata": {},
   "outputs": [],
   "source": [
    "# Import all the tools we need\n",
    "\n",
    "\n",
    "# Regular EDA(exploratory data analysis) and plotting libraries\n",
    "import numpy as np\n",
    "import pandas as pd\n",
    "import matplotlib.pyplot as plt\n",
    "\n",
    "\n",
    "%matplotlib inline\n",
    "\n"
   ]
  },
  {
   "cell_type": "markdown",
   "metadata": {},
   "source": [
    "## Load Data\n",
    "\n",
    "Load the data from directory\n"
   ]
  },
  {
   "cell_type": "code",
   "execution_count": 2,
   "metadata": {
    "execution": {
     "iopub.execute_input": "2023-05-13T17:06:31.754856Z",
     "iopub.status.busy": "2023-05-13T17:06:31.754427Z",
     "iopub.status.idle": "2023-05-13T17:06:31.759702Z",
     "shell.execute_reply": "2023-05-13T17:06:31.758251Z",
     "shell.execute_reply.started": "2023-05-13T17:06:31.754811Z"
    }
   },
   "outputs": [],
   "source": [
    "df = pd.read_csv('data/2_reviews_per_movie_raw/3 Idiots 2009.csv')"
   ]
  },
  {
   "cell_type": "code",
   "execution_count": 3,
   "metadata": {},
   "outputs": [
    {
     "data": {
      "text/html": [
       "<div>\n",
       "<style scoped>\n",
       "    .dataframe tbody tr th:only-of-type {\n",
       "        vertical-align: middle;\n",
       "    }\n",
       "\n",
       "    .dataframe tbody tr th {\n",
       "        vertical-align: top;\n",
       "    }\n",
       "\n",
       "    .dataframe thead th {\n",
       "        text-align: right;\n",
       "    }\n",
       "</style>\n",
       "<table border=\"1\" class=\"dataframe\">\n",
       "  <thead>\n",
       "    <tr style=\"text-align: right;\">\n",
       "      <th></th>\n",
       "      <th>username</th>\n",
       "      <th>rating</th>\n",
       "      <th>helpful</th>\n",
       "      <th>total</th>\n",
       "      <th>date</th>\n",
       "      <th>title</th>\n",
       "      <th>review</th>\n",
       "    </tr>\n",
       "  </thead>\n",
       "  <tbody>\n",
       "    <tr>\n",
       "      <th>0</th>\n",
       "      <td>MartinHafer</td>\n",
       "      <td>10</td>\n",
       "      <td>264</td>\n",
       "      <td>313</td>\n",
       "      <td>2 June 2011</td>\n",
       "      <td>Wonderfully entertaining.\\n</td>\n",
       "      <td>It's hard for me to review this film, as I hav...</td>\n",
       "    </tr>\n",
       "    <tr>\n",
       "      <th>1</th>\n",
       "      <td>reedcom</td>\n",
       "      <td>9</td>\n",
       "      <td>350</td>\n",
       "      <td>423</td>\n",
       "      <td>20 November 2011</td>\n",
       "      <td>Wow this American loves this movie\\n</td>\n",
       "      <td>I asked my co-workers to recommend a Bollywood...</td>\n",
       "    </tr>\n",
       "    <tr>\n",
       "      <th>2</th>\n",
       "      <td>vvv832</td>\n",
       "      <td>10</td>\n",
       "      <td>140</td>\n",
       "      <td>170</td>\n",
       "      <td>19 February 2011</td>\n",
       "      <td>^_^The best film reflecting Asia's education ...</td>\n",
       "      <td>As many ordinary Chinese high school students,...</td>\n",
       "    </tr>\n",
       "    <tr>\n",
       "      <th>3</th>\n",
       "      <td>Fella_shibby</td>\n",
       "      <td>10</td>\n",
       "      <td>55</td>\n",
       "      <td>71</td>\n",
       "      <td>9 September 2013</td>\n",
       "      <td>Finally a masterpiece from Bollywood. Aamir k...</td>\n",
       "      <td>Awesome film man. Saw this with my family in a...</td>\n",
       "    </tr>\n",
       "    <tr>\n",
       "      <th>4</th>\n",
       "      <td>naman-avastol</td>\n",
       "      <td>9</td>\n",
       "      <td>283</td>\n",
       "      <td>407</td>\n",
       "      <td>24 December 2009</td>\n",
       "      <td>Aal izz very, very, very, very, very Well\\n</td>\n",
       "      <td>\"Whatever the problem in life is... just say t...</td>\n",
       "    </tr>\n",
       "  </tbody>\n",
       "</table>\n",
       "</div>"
      ],
      "text/plain": [
       "        username rating  helpful  total              date  \\\n",
       "0    MartinHafer     10      264    313       2 June 2011   \n",
       "1        reedcom      9      350    423  20 November 2011   \n",
       "2         vvv832     10      140    170  19 February 2011   \n",
       "3   Fella_shibby     10       55     71  9 September 2013   \n",
       "4  naman-avastol      9      283    407  24 December 2009   \n",
       "\n",
       "                                               title  \\\n",
       "0                        Wonderfully entertaining.\\n   \n",
       "1               Wow this American loves this movie\\n   \n",
       "2   ^_^The best film reflecting Asia's education ...   \n",
       "3   Finally a masterpiece from Bollywood. Aamir k...   \n",
       "4        Aal izz very, very, very, very, very Well\\n   \n",
       "\n",
       "                                              review  \n",
       "0  It's hard for me to review this film, as I hav...  \n",
       "1  I asked my co-workers to recommend a Bollywood...  \n",
       "2  As many ordinary Chinese high school students,...  \n",
       "3  Awesome film man. Saw this with my family in a...  \n",
       "4  \"Whatever the problem in life is... just say t...  "
      ]
     },
     "execution_count": 3,
     "metadata": {},
     "output_type": "execute_result"
    }
   ],
   "source": [
    "df.head()"
   ]
  },
  {
   "cell_type": "code",
   "execution_count": 6,
   "metadata": {},
   "outputs": [
    {
     "data": {
      "text/plain": [
       "'It\\'s hard for me to review this film, as I have not seen a huge number of Indian films--probably no more than a couple dozen. Most of the ones I\\'ve seen were wonderfully entertaining but I am far from an expert on Bollywood. Because of this, I have a hard time knowing how good this film is relative to other films from this country. So, consider this when you read this review. This may be among the very best India has to offer or it just seems that way to me.<br/><br/>Like so many Indian films, this is a very, very long film--with a run-time of almost three hours. When a movie is bad or just okay, this can seem like forever, but since \"3 Idiots\" is a very, very good film I loved its length. And, like most films of the genre, it has its share of the usual singing and dancing so foreign to films from other countries. One thing you should know, however, is that defining the type of film it is isn\\'t really easy. Much of it is a comedy, but it also has many poignant moments (keep the Kleenex nearby), some existential moments where they explore the meaning of life and work and it\\'s also a tender film about friendship. And, as my daughter pointed out when she saw the film, she loved that the men in the movie are not afraid to cry--something you rarely see in western films.<br/><br/>As for the plot, it\\'s very long and involved and I could recount what occurs. But I don\\'t want to spoil a single wonderful moment, so my advice is just sit back and watch--and if you give it a chance, I can almost guarantee you\\'ll have a great time with this poignant and funny film. Wonderful and well worth your time--with a delightful script, wonderful characters and lots of moments that made me smile...and a few that brought me to tears. See this film.'"
      ]
     },
     "execution_count": 6,
     "metadata": {},
     "output_type": "execute_result"
    }
   ],
   "source": [
    "test = df.review[0]\n",
    "test"
   ]
  },
  {
   "cell_type": "code",
   "execution_count": 14,
   "metadata": {},
   "outputs": [],
   "source": [
    "test = test.replace('<br/>', '')"
   ]
  },
  {
   "cell_type": "code",
   "execution_count": 19,
   "metadata": {},
   "outputs": [],
   "source": [
    "test = test.replace('--', ' ')"
   ]
  },
  {
   "cell_type": "code",
   "execution_count": 27,
   "metadata": {},
   "outputs": [
    {
     "data": {
      "text/plain": [
       "'itPs'"
      ]
     },
     "execution_count": 27,
     "metadata": {},
     "output_type": "execute_result"
    }
   ],
   "source": [
    "\n",
    "x = 'it\\s' \n",
    "x.replace('\\\\', 'P')\n"
   ]
  },
  {
   "cell_type": "code",
   "execution_count": 29,
   "metadata": {},
   "outputs": [
    {
     "data": {
      "text/plain": [
       "'Its hard for me to review this film, as I have not seen a huge number of Indian films probably no more than a couple dozen. Most of the ones Ive seen were wonderfully entertaining but I am far from an expert on Bollywood. Because of this, I have a hard time knowing how good this film is relative to other films from this country. So, consider this when you read this review. This may be among the very best India has to offer or it just seems that way to me.Like so many Indian films, this is a very, very long film with a run-time of almost three hours. When a movie is bad or just okay, this can seem like forever, but since \"3 Idiots\" is a very, very good film I loved its length. And, like most films of the genre, it has its share of the usual singing and dancing so foreign to films from other countries. One thing you should know, however, is that defining the type of film it is isnt really easy. Much of it is a comedy, but it also has many poignant moments (keep the Kleenex nearby), some existential moments where they explore the meaning of life and work and its also a tender film about friendship. And, as my daughter pointed out when she saw the film, she loved that the men in the movie are not afraid to cry something you rarely see in western films.As for the plot, its very long and involved and I could recount what occurs. But I dont want to spoil a single wonderful moment, so my advice is just sit back and watch and if you give it a chance, I can almost guarantee youll have a great time with this poignant and funny film. Wonderful and well worth your time with a delightful script, wonderful characters and lots of moments that made me smile...and a few that brought me to tears. See this film.'"
      ]
     },
     "execution_count": 29,
     "metadata": {},
     "output_type": "execute_result"
    }
   ],
   "source": [
    "test.replace(\"'\", '')"
   ]
  },
  {
   "cell_type": "code",
   "execution_count": 42,
   "metadata": {},
   "outputs": [],
   "source": [
    "test_li = df.review"
   ]
  },
  {
   "cell_type": "code",
   "execution_count": 43,
   "metadata": {},
   "outputs": [
    {
     "data": {
      "text/plain": [
       "'I asked my co-workers to recommend a Bollywood movie. I expected \"Dumb and Dumber\" by the title. It wasn\\'t that at all. It is more of an inspirational comedy with some serious but good messages. A more accurate title would have been \"The Legend of Rancho\".<br/><br/>Odd to me is that they speak in part English, part Hindi through the movie, kinda like some speak \"Spanglish\" here I suppose. I know none of the actors but the acting was good, and there was plenty of humor. The characters were believable. Most movie dancing I find a little silly but I even liked the dancing routines in the bathroom.<br/><br/>I will be asking my co-workers for more recommendations after this one!'"
      ]
     },
     "execution_count": 43,
     "metadata": {},
     "output_type": "execute_result"
    }
   ],
   "source": [
    "test_li[1]"
   ]
  },
  {
   "cell_type": "code",
   "execution_count": 45,
   "metadata": {},
   "outputs": [],
   "source": [
    "def clean_text(test):\n",
    "    '''\n",
    "    Clean's up the unnecessary thiings of a text by replacing them with proper symbols.\n",
    "    '''\n",
    "    test = test.replace('<br/>', '')\n",
    "    test = test.replace('--', ' ')\n",
    "    test = test.replace(\"'\", '')\n",
    "    \n",
    "    return test\n",
    "        \n",
    "    "
   ]
  },
  {
   "cell_type": "code",
   "execution_count": 48,
   "metadata": {},
   "outputs": [
    {
     "data": {
      "text/plain": [
       "'I saw the paid premiere of 3 idiots today.On the whole, 3 idiots is a winner all the way everythingwise.3 idiots suits the term landmark cinema and has all it takes to help Bollywood take a giant step into world cinema with pride.3 idiots is a sparkling example of qualitative cinema.3 idiots not only entertains, it also enlightens.3 idiots is forward-thinking, but also makes you recall your roots. It promises lots of laughs and also a heartwarming message.There are movies aplenty, but very few remain etched in your memory and possess recall value. 3 idiots is one of those films. Indisputably and undeniably, this Aamir-Madhavan-Sharman outing is worth the price of the ticket and more.The film will set new records and has the merits to emerge one of the biggest hits of all times. The weekend business should be historic, the Week 1 business should be unparalleled, the lifetime gross should be amongst the biggest of all times. In short, 3 idiots has Blockbuster written all over it.The story of 3 idiots has been told differently and most importantly, the story offers so many twists-n-turns that you just cant guess what would unfold next.Theres so much happening in every scene and the screenplay is so gripping that you dont feel the need to look at the auditorium ceiling or at your watch at brief intervals. You arent restless. 3 idiots demonstrates how strong film-making can enhance and elevate an already solid concept.An Aamir Khan film is nothing short of an event. The supremely talented actor acts in one film a year and no two films are ever identical in terms of plot line.To sum up, 3 idiots is commercial Hindi cinema at its best. The film has Hit written all over it. Let me put it this way: Cancel whatever youre doing today and go watch 3 idiots instead.Director Rajkumar Hirani strikes a fine balance between humor and emotions. The comic portions are executed with panache, the drama is attention-grabbing and the emotional quotient is strong enough to turn you moist-eyed. The marriage of humor and emotions as also technique and content is what drives 3 idiots to the winning post.'"
      ]
     },
     "execution_count": 48,
     "metadata": {},
     "output_type": "execute_result"
    }
   ],
   "source": [
    "clean_text(test_li[10])"
   ]
  },
  {
   "cell_type": "code",
   "execution_count": 49,
   "metadata": {},
   "outputs": [],
   "source": [
    "new_list = test_li.apply(clean_text)"
   ]
  },
  {
   "cell_type": "code",
   "execution_count": 52,
   "metadata": {},
   "outputs": [
    {
     "data": {
      "text/plain": [
       "'I asked my co-workers to recommend a Bollywood movie. I expected \"Dumb and Dumber\" by the title. It wasnt that at all. It is more of an inspirational comedy with some serious but good messages. A more accurate title would have been \"The Legend of Rancho\".Odd to me is that they speak in part English, part Hindi through the movie, kinda like some speak \"Spanglish\" here I suppose. I know none of the actors but the acting was good, and there was plenty of humor. The characters were believable. Most movie dancing I find a little silly but I even liked the dancing routines in the bathroom.I will be asking my co-workers for more recommendations after this one!'"
      ]
     },
     "execution_count": 52,
     "metadata": {},
     "output_type": "execute_result"
    }
   ],
   "source": [
    "new_list[1]"
   ]
  },
  {
   "cell_type": "code",
   "execution_count": 53,
   "metadata": {},
   "outputs": [
    {
     "data": {
      "text/plain": [
       "(600,)"
      ]
     },
     "execution_count": 53,
     "metadata": {},
     "output_type": "execute_result"
    }
   ],
   "source": [
    "new_list.shape"
   ]
  },
  {
   "cell_type": "code",
   "execution_count": 56,
   "metadata": {},
   "outputs": [],
   "source": [
    "df['review'] = new_list"
   ]
  },
  {
   "cell_type": "code",
   "execution_count": 59,
   "metadata": {},
   "outputs": [
    {
     "data": {
      "text/plain": [
       "'I asked my co-workers to recommend a Bollywood movie. I expected \"Dumb and Dumber\" by the title. It wasnt that at all. It is more of an inspirational comedy with some serious but good messages. A more accurate title would have been \"The Legend of Rancho\".Odd to me is that they speak in part English, part Hindi through the movie, kinda like some speak \"Spanglish\" here I suppose. I know none of the actors but the acting was good, and there was plenty of humor. The characters were believable. Most movie dancing I find a little silly but I even liked the dancing routines in the bathroom.I will be asking my co-workers for more recommendations after this one!'"
      ]
     },
     "execution_count": 59,
     "metadata": {},
     "output_type": "execute_result"
    }
   ],
   "source": [
    "df.review[1]"
   ]
  },
  {
   "cell_type": "code",
   "execution_count": 60,
   "metadata": {},
   "outputs": [
    {
     "data": {
      "text/html": [
       "<div>\n",
       "<style scoped>\n",
       "    .dataframe tbody tr th:only-of-type {\n",
       "        vertical-align: middle;\n",
       "    }\n",
       "\n",
       "    .dataframe tbody tr th {\n",
       "        vertical-align: top;\n",
       "    }\n",
       "\n",
       "    .dataframe thead th {\n",
       "        text-align: right;\n",
       "    }\n",
       "</style>\n",
       "<table border=\"1\" class=\"dataframe\">\n",
       "  <thead>\n",
       "    <tr style=\"text-align: right;\">\n",
       "      <th></th>\n",
       "      <th>username</th>\n",
       "      <th>rating</th>\n",
       "      <th>helpful</th>\n",
       "      <th>total</th>\n",
       "      <th>date</th>\n",
       "      <th>title</th>\n",
       "      <th>review</th>\n",
       "    </tr>\n",
       "  </thead>\n",
       "  <tbody>\n",
       "    <tr>\n",
       "      <th>0</th>\n",
       "      <td>MartinHafer</td>\n",
       "      <td>10</td>\n",
       "      <td>264</td>\n",
       "      <td>313</td>\n",
       "      <td>2 June 2011</td>\n",
       "      <td>Wonderfully entertaining.\\n</td>\n",
       "      <td>Its hard for me to review this film, as I have...</td>\n",
       "    </tr>\n",
       "    <tr>\n",
       "      <th>1</th>\n",
       "      <td>reedcom</td>\n",
       "      <td>9</td>\n",
       "      <td>350</td>\n",
       "      <td>423</td>\n",
       "      <td>20 November 2011</td>\n",
       "      <td>Wow this American loves this movie\\n</td>\n",
       "      <td>I asked my co-workers to recommend a Bollywood...</td>\n",
       "    </tr>\n",
       "    <tr>\n",
       "      <th>2</th>\n",
       "      <td>vvv832</td>\n",
       "      <td>10</td>\n",
       "      <td>140</td>\n",
       "      <td>170</td>\n",
       "      <td>19 February 2011</td>\n",
       "      <td>^_^The best film reflecting Asia's education ...</td>\n",
       "      <td>As many ordinary Chinese high school students,...</td>\n",
       "    </tr>\n",
       "  </tbody>\n",
       "</table>\n",
       "</div>"
      ],
      "text/plain": [
       "      username rating  helpful  total              date  \\\n",
       "0  MartinHafer     10      264    313       2 June 2011   \n",
       "1      reedcom      9      350    423  20 November 2011   \n",
       "2       vvv832     10      140    170  19 February 2011   \n",
       "\n",
       "                                               title  \\\n",
       "0                        Wonderfully entertaining.\\n   \n",
       "1               Wow this American loves this movie\\n   \n",
       "2   ^_^The best film reflecting Asia's education ...   \n",
       "\n",
       "                                              review  \n",
       "0  Its hard for me to review this film, as I have...  \n",
       "1  I asked my co-workers to recommend a Bollywood...  \n",
       "2  As many ordinary Chinese high school students,...  "
      ]
     },
     "execution_count": 60,
     "metadata": {},
     "output_type": "execute_result"
    }
   ],
   "source": [
    "df.head(3)"
   ]
  },
  {
   "cell_type": "code",
   "execution_count": 62,
   "metadata": {},
   "outputs": [],
   "source": [
    "df.drop(['date', 'title'], axis=1, inplace=True)"
   ]
  },
  {
   "cell_type": "code",
   "execution_count": 64,
   "metadata": {},
   "outputs": [
    {
     "data": {
      "text/html": [
       "<div>\n",
       "<style scoped>\n",
       "    .dataframe tbody tr th:only-of-type {\n",
       "        vertical-align: middle;\n",
       "    }\n",
       "\n",
       "    .dataframe tbody tr th {\n",
       "        vertical-align: top;\n",
       "    }\n",
       "\n",
       "    .dataframe thead th {\n",
       "        text-align: right;\n",
       "    }\n",
       "</style>\n",
       "<table border=\"1\" class=\"dataframe\">\n",
       "  <thead>\n",
       "    <tr style=\"text-align: right;\">\n",
       "      <th></th>\n",
       "      <th>rating</th>\n",
       "      <th>helpful</th>\n",
       "      <th>total</th>\n",
       "      <th>review</th>\n",
       "    </tr>\n",
       "  </thead>\n",
       "  <tbody>\n",
       "    <tr>\n",
       "      <th>0</th>\n",
       "      <td>10</td>\n",
       "      <td>264</td>\n",
       "      <td>313</td>\n",
       "      <td>Its hard for me to review this film, as I have...</td>\n",
       "    </tr>\n",
       "    <tr>\n",
       "      <th>1</th>\n",
       "      <td>9</td>\n",
       "      <td>350</td>\n",
       "      <td>423</td>\n",
       "      <td>I asked my co-workers to recommend a Bollywood...</td>\n",
       "    </tr>\n",
       "    <tr>\n",
       "      <th>2</th>\n",
       "      <td>10</td>\n",
       "      <td>140</td>\n",
       "      <td>170</td>\n",
       "      <td>As many ordinary Chinese high school students,...</td>\n",
       "    </tr>\n",
       "  </tbody>\n",
       "</table>\n",
       "</div>"
      ],
      "text/plain": [
       "  rating  helpful  total                                             review\n",
       "0     10      264    313  Its hard for me to review this film, as I have...\n",
       "1      9      350    423  I asked my co-workers to recommend a Bollywood...\n",
       "2     10      140    170  As many ordinary Chinese high school students,..."
      ]
     },
     "execution_count": 64,
     "metadata": {},
     "output_type": "execute_result"
    }
   ],
   "source": [
    "df.drop('username', axis = 1, inplace=True)\n",
    "df.head(3)"
   ]
  },
  {
   "cell_type": "code",
   "execution_count": 6,
   "metadata": {},
   "outputs": [
    {
     "data": {
      "text/plain": [
       "(600, 7)"
      ]
     },
     "execution_count": 6,
     "metadata": {},
     "output_type": "execute_result"
    }
   ],
   "source": [
    "df.shape"
   ]
  },
  {
   "cell_type": "code",
   "execution_count": 9,
   "metadata": {},
   "outputs": [
    {
     "data": {
      "text/plain": [
       "<Axes: title={'center': 'Rating count'}>"
      ]
     },
     "execution_count": 9,
     "metadata": {},
     "output_type": "execute_result"
    },
    {
     "data": {
      "image/png": "[encoded data removed]",
      "text/plain": [
       "<Figure size 640x480 with 1 Axes>"
      ]
     },
     "metadata": {},
     "output_type": "display_data"
    }
   ],
   "source": [
    "df.rating.value_counts().plot(kind='bar', cmap='winter', title='Rating count')"
   ]
  },
  {
   "cell_type": "code",
   "execution_count": 10,
   "metadata": {},
   "outputs": [
    {
     "data": {
      "text/html": [
       "<div>\n",
       "<style scoped>\n",
       "    .dataframe tbody tr th:only-of-type {\n",
       "        vertical-align: middle;\n",
       "    }\n",
       "\n",
       "    .dataframe tbody tr th {\n",
       "        vertical-align: top;\n",
       "    }\n",
       "\n",
       "    .dataframe thead th {\n",
       "        text-align: right;\n",
       "    }\n",
       "</style>\n",
       "<table border=\"1\" class=\"dataframe\">\n",
       "  <thead>\n",
       "    <tr style=\"text-align: right;\">\n",
       "      <th></th>\n",
       "      <th>helpful</th>\n",
       "      <th>total</th>\n",
       "    </tr>\n",
       "  </thead>\n",
       "  <tbody>\n",
       "    <tr>\n",
       "      <th>count</th>\n",
       "      <td>600.000000</td>\n",
       "      <td>600.000000</td>\n",
       "    </tr>\n",
       "    <tr>\n",
       "      <th>mean</th>\n",
       "      <td>8.356667</td>\n",
       "      <td>16.280000</td>\n",
       "    </tr>\n",
       "    <tr>\n",
       "      <th>std</th>\n",
       "      <td>30.928095</td>\n",
       "      <td>46.398487</td>\n",
       "    </tr>\n",
       "    <tr>\n",
       "      <th>min</th>\n",
       "      <td>0.000000</td>\n",
       "      <td>0.000000</td>\n",
       "    </tr>\n",
       "    <tr>\n",
       "      <th>25%</th>\n",
       "      <td>0.000000</td>\n",
       "      <td>1.000000</td>\n",
       "    </tr>\n",
       "    <tr>\n",
       "      <th>50%</th>\n",
       "      <td>1.000000</td>\n",
       "      <td>3.000000</td>\n",
       "    </tr>\n",
       "    <tr>\n",
       "      <th>75%</th>\n",
       "      <td>4.250000</td>\n",
       "      <td>11.000000</td>\n",
       "    </tr>\n",
       "    <tr>\n",
       "      <th>max</th>\n",
       "      <td>350.000000</td>\n",
       "      <td>423.000000</td>\n",
       "    </tr>\n",
       "  </tbody>\n",
       "</table>\n",
       "</div>"
      ],
      "text/plain": [
       "          helpful       total\n",
       "count  600.000000  600.000000\n",
       "mean     8.356667   16.280000\n",
       "std     30.928095   46.398487\n",
       "min      0.000000    0.000000\n",
       "25%      0.000000    1.000000\n",
       "50%      1.000000    3.000000\n",
       "75%      4.250000   11.000000\n",
       "max    350.000000  423.000000"
      ]
     },
     "execution_count": 10,
     "metadata": {},
     "output_type": "execute_result"
    }
   ],
   "source": [
    "df.describe()"
   ]
  },
  {
   "cell_type": "code",
   "execution_count": 12,
   "metadata": {},
   "outputs": [
    {
     "data": {
      "text/plain": [
       "username    0\n",
       "rating      0\n",
       "helpful     0\n",
       "total       0\n",
       "date        0\n",
       "title       0\n",
       "review      0\n",
       "dtype: int64"
      ]
     },
     "execution_count": 12,
     "metadata": {},
     "output_type": "execute_result"
    }
   ],
   "source": [
    "df.isna().sum()"
   ]
  },
  {
   "cell_type": "code",
   "execution_count": 22,
   "metadata": {},
   "outputs": [
    {
     "data": {
      "text/plain": [
       "username    object\n",
       "rating      object\n",
       "helpful      int64\n",
       "total        int64\n",
       "date        object\n",
       "title       object\n",
       "review      object\n",
       "dtype: object"
      ]
     },
     "execution_count": 22,
     "metadata": {},
     "output_type": "execute_result"
    }
   ],
   "source": [
    "df.dtypes"
   ]
  },
  {
   "cell_type": "code",
   "execution_count": 18,
   "metadata": {},
   "outputs": [
    {
     "data": {
      "text/plain": [
       "34"
      ]
     },
     "execution_count": 18,
     "metadata": {},
     "output_type": "execute_result"
    }
   ],
   "source": [
    "li.count('Null')"
   ]
  },
  {
   "cell_type": "code",
   "execution_count": 24,
   "metadata": {},
   "outputs": [],
   "source": [
    "df['rating'] = df['rating'].astype(str)"
   ]
  },
  {
   "cell_type": "code",
   "execution_count": 27,
   "metadata": {},
   "outputs": [],
   "source": [
    "df['rating'] = df['rating'].astype(object)"
   ]
  },
  {
   "cell_type": "code",
   "execution_count": 28,
   "metadata": {},
   "outputs": [
    {
     "data": {
      "text/plain": [
       "username    object\n",
       "rating      object\n",
       "helpful      int64\n",
       "total        int64\n",
       "date        object\n",
       "title       object\n",
       "review      object\n",
       "dtype: object"
      ]
     },
     "execution_count": 28,
     "metadata": {},
     "output_type": "execute_result"
    }
   ],
   "source": [
    "df.dtypes\n"
   ]
  },
  {
   "cell_type": "code",
   "execution_count": null,
   "metadata": {},
   "outputs": [],
   "source": []
  }
 ],
 "metadata": {
  "kernelspec": {
   "display_name": "Python 3 (ipykernel)",
   "language": "python",
   "name": "python3"
  },
  "language_info": {
   "codemirror_mode": {
    "name": "ipython",
    "version": 3
   },
   "file_extension": ".py",
   "mimetype": "text/x-python",
   "name": "python",
   "nbconvert_exporter": "python",
   "pygments_lexer": "ipython3",
   "version": "3.11.3"
  }
 },
 "nbformat": 4,
 "nbformat_minor": 4
}
