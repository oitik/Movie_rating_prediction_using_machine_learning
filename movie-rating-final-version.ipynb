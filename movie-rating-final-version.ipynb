{
 "cells": [
  {
   "cell_type": "code",
   "execution_count": 1,
   "id": "d4a3d5b7",
   "metadata": {
    "_cell_guid": "b1076dfc-b9ad-4769-8c92-a6c4dae69d19",
    "_uuid": "8f2839f25d086af736a60e9eeb907d3b93b6e0e5",
    "execution": {
     "iopub.execute_input": "2023-05-26T05:49:33.929939Z",
     "iopub.status.busy": "2023-05-26T05:49:33.929066Z",
     "iopub.status.idle": "2023-05-26T05:49:33.954469Z",
     "shell.execute_reply": "2023-05-26T05:49:33.953592Z"
    },
    "papermill": {
     "duration": 0.040165,
     "end_time": "2023-05-26T05:49:33.956758",
     "exception": false,
     "start_time": "2023-05-26T05:49:33.916593",
     "status": "completed"
    },
    "tags": []
   },
   "outputs": [
    {
     "name": "stdout",
     "output_type": "stream",
     "text": [
      "/kaggle/input/movie-review/The Dark Knight 2008.csv\n",
      "/kaggle/input/movie-review/Star Wars Episode VIII - The Last Jedi 2017.csv\n",
      "/kaggle/input/movie-review/The Lord of the Rings The Fellowship of the Ring 2001.csv\n",
      "/kaggle/input/movie-review/Joker 2019.csv\n",
      "/kaggle/input/movie-review/Star Wars Episode VII - The Force Awakens 2015.csv\n"
     ]
    }
   ],
   "source": [
    "# This Python 3 environment comes with many helpful analytics libraries installed\n",
    "# It is defined by the kaggle/python Docker image: https://github.com/kaggle/docker-python\n",
    "# For example, here's several helpful packages to load\n",
    "\n",
    "import numpy as np # linear algebra\n",
    "import pandas as pd # data processing, CSV file I/O (e.g. pd.read_csv)\n",
    "\n",
    "# Input data files are available in the read-only \"../input/\" directory\n",
    "# For example, running this (by clicking run or pressing Shift+Enter) will list all files under the input directory\n",
    "\n",
    "import os\n",
    "for dirname, _, filenames in os.walk('/kaggle/input'):\n",
    "    for filename in filenames:\n",
    "        print(os.path.join(dirname, filename))\n",
    "\n",
    "# You can write up to 20GB to the current directory (/kaggle/working/) that gets preserved as output when you create a version using \"Save & Run All\" \n",
    "# You can also write temporary files to /kaggle/temp/, but they won't be saved outside of the current session"
   ]
  },
  {
   "cell_type": "code",
   "execution_count": 2,
   "id": "b9aa0e64",
   "metadata": {
    "execution": {
     "iopub.execute_input": "2023-05-26T05:49:33.979719Z",
     "iopub.status.busy": "2023-05-26T05:49:33.979296Z",
     "iopub.status.idle": "2023-05-26T05:49:33.985590Z",
     "shell.execute_reply": "2023-05-26T05:49:33.984614Z"
    },
    "papermill": {
     "duration": 0.020211,
     "end_time": "2023-05-26T05:49:33.987613",
     "exception": false,
     "start_time": "2023-05-26T05:49:33.967402",
     "status": "completed"
    },
    "tags": []
   },
   "outputs": [],
   "source": [
    "# Import all the tools we need\n",
    "\n",
    "\n",
    "# Regular EDA(exploratory data analysis) and plotting libraries\n",
    "import numpy as np\n",
    "import pandas as pd\n",
    "import matplotlib.pyplot as plt\n",
    "\n",
    "\n",
    "%matplotlib inline"
   ]
  },
  {
   "cell_type": "markdown",
   "id": "6e022ff4",
   "metadata": {
    "papermill": {
     "duration": 0.010119,
     "end_time": "2023-05-26T05:49:34.007990",
     "exception": false,
     "start_time": "2023-05-26T05:49:33.997871",
     "status": "completed"
    },
    "tags": []
   },
   "source": [
    "## Import data"
   ]
  },
  {
   "cell_type": "code",
   "execution_count": 3,
   "id": "ab142563",
   "metadata": {
    "execution": {
     "iopub.execute_input": "2023-05-26T05:49:34.031005Z",
     "iopub.status.busy": "2023-05-26T05:49:34.029920Z",
     "iopub.status.idle": "2023-05-26T05:49:34.297145Z",
     "shell.execute_reply": "2023-05-26T05:49:34.296302Z"
    },
    "papermill": {
     "duration": 0.281251,
     "end_time": "2023-05-26T05:49:34.299562",
     "exception": false,
     "start_time": "2023-05-26T05:49:34.018311",
     "status": "completed"
    },
    "tags": []
   },
   "outputs": [],
   "source": [
    "df = pd.read_csv('/kaggle/input/movie-review/Joker 2019.csv')"
   ]
  },
  {
   "cell_type": "code",
   "execution_count": 4,
   "id": "1e70651c",
   "metadata": {
    "execution": {
     "iopub.execute_input": "2023-05-26T05:49:34.322977Z",
     "iopub.status.busy": "2023-05-26T05:49:34.322051Z",
     "iopub.status.idle": "2023-05-26T05:49:34.328584Z",
     "shell.execute_reply": "2023-05-26T05:49:34.327858Z"
    },
    "papermill": {
     "duration": 0.020277,
     "end_time": "2023-05-26T05:49:34.330415",
     "exception": false,
     "start_time": "2023-05-26T05:49:34.310138",
     "status": "completed"
    },
    "tags": []
   },
   "outputs": [
    {
     "data": {
      "text/plain": [
       "(10046, 7)"
      ]
     },
     "execution_count": 4,
     "metadata": {},
     "output_type": "execute_result"
    }
   ],
   "source": [
    "df.shape"
   ]
  },
  {
   "cell_type": "markdown",
   "id": "75c70433",
   "metadata": {
    "papermill": {
     "duration": 0.00991,
     "end_time": "2023-05-26T05:49:34.350674",
     "exception": false,
     "start_time": "2023-05-26T05:49:34.340764",
     "status": "completed"
    },
    "tags": []
   },
   "source": [
    "## Check for Null values"
   ]
  },
  {
   "cell_type": "code",
   "execution_count": 5,
   "id": "27fc88e1",
   "metadata": {
    "execution": {
     "iopub.execute_input": "2023-05-26T05:49:34.372840Z",
     "iopub.status.busy": "2023-05-26T05:49:34.372145Z",
     "iopub.status.idle": "2023-05-26T05:49:34.758408Z",
     "shell.execute_reply": "2023-05-26T05:49:34.757396Z"
    },
    "papermill": {
     "duration": 0.399881,
     "end_time": "2023-05-26T05:49:34.760587",
     "exception": false,
     "start_time": "2023-05-26T05:49:34.360706",
     "status": "completed"
    },
    "tags": []
   },
   "outputs": [
    {
     "data": {
      "image/png": "[encoded data removed]",
      "text/plain": [
       "<Figure size 640x480 with 1 Axes>"
      ]
     },
     "metadata": {},
     "output_type": "display_data"
    }
   ],
   "source": [
    "df.rating.value_counts().plot(kind='bar', cmap='summer', title='Joker 2009 IMDb Rating');"
   ]
  },
  {
   "cell_type": "code",
   "execution_count": 6,
   "id": "3fccad66",
   "metadata": {
    "execution": {
     "iopub.execute_input": "2023-05-26T05:49:34.783873Z",
     "iopub.status.busy": "2023-05-26T05:49:34.783494Z",
     "iopub.status.idle": "2023-05-26T05:49:34.795350Z",
     "shell.execute_reply": "2023-05-26T05:49:34.794585Z"
    },
    "papermill": {
     "duration": 0.025993,
     "end_time": "2023-05-26T05:49:34.797436",
     "exception": false,
     "start_time": "2023-05-26T05:49:34.771443",
     "status": "completed"
    },
    "tags": []
   },
   "outputs": [],
   "source": [
    "li = []\n",
    "for rev in df.review:\n",
    "    li.append(len(rev))\n",
    "    if len(rev) == 2771:\n",
    "        print(rev, end='\\n ended\\n')"
   ]
  },
  {
   "cell_type": "code",
   "execution_count": 7,
   "id": "a59e3c69",
   "metadata": {
    "execution": {
     "iopub.execute_input": "2023-05-26T05:49:34.821296Z",
     "iopub.status.busy": "2023-05-26T05:49:34.820564Z",
     "iopub.status.idle": "2023-05-26T05:49:34.828622Z",
     "shell.execute_reply": "2023-05-26T05:49:34.827813Z"
    },
    "papermill": {
     "duration": 0.022227,
     "end_time": "2023-05-26T05:49:34.830627",
     "exception": false,
     "start_time": "2023-05-26T05:49:34.808400",
     "status": "completed"
    },
    "tags": []
   },
   "outputs": [
    {
     "data": {
      "text/plain": [
       "[11, 11, 11, 14, 15, 15, 17, 19, 20, 23]"
      ]
     },
     "execution_count": 7,
     "metadata": {},
     "output_type": "execute_result"
    }
   ],
   "source": [
    "li.sort()\n",
    "li[:10]"
   ]
  },
  {
   "cell_type": "code",
   "execution_count": 8,
   "id": "5eecc589",
   "metadata": {
    "execution": {
     "iopub.execute_input": "2023-05-26T05:49:34.854181Z",
     "iopub.status.busy": "2023-05-26T05:49:34.853468Z",
     "iopub.status.idle": "2023-05-26T05:49:34.860590Z",
     "shell.execute_reply": "2023-05-26T05:49:34.859643Z"
    },
    "papermill": {
     "duration": 0.021303,
     "end_time": "2023-05-26T05:49:34.862677",
     "exception": false,
     "start_time": "2023-05-26T05:49:34.841374",
     "status": "completed"
    },
    "tags": []
   },
   "outputs": [
    {
     "data": {
      "text/plain": [
       "[1490, 1489, 1486, 1485, 1483, 1482, 1482, 1480, 1477, 1476]"
      ]
     },
     "execution_count": 8,
     "metadata": {},
     "output_type": "execute_result"
    }
   ],
   "source": [
    "li.sort(reverse=True)\n",
    "li[1000:1010]"
   ]
  },
  {
   "cell_type": "markdown",
   "id": "68ce0145",
   "metadata": {
    "papermill": {
     "duration": 0.01061,
     "end_time": "2023-05-26T05:49:34.884124",
     "exception": false,
     "start_time": "2023-05-26T05:49:34.873514",
     "status": "completed"
    },
    "tags": []
   },
   "source": [
    "## Important functions"
   ]
  },
  {
   "cell_type": "code",
   "execution_count": 9,
   "id": "b22aabba",
   "metadata": {
    "execution": {
     "iopub.execute_input": "2023-05-26T05:49:34.907975Z",
     "iopub.status.busy": "2023-05-26T05:49:34.906955Z",
     "iopub.status.idle": "2023-05-26T05:49:52.654719Z",
     "shell.execute_reply": "2023-05-26T05:49:52.653752Z"
    },
    "papermill": {
     "duration": 17.762399,
     "end_time": "2023-05-26T05:49:52.657293",
     "exception": false,
     "start_time": "2023-05-26T05:49:34.894894",
     "status": "completed"
    },
    "tags": []
   },
   "outputs": [
    {
     "name": "stderr",
     "output_type": "stream",
     "text": [
      "/opt/conda/lib/python3.10/site-packages/tensorflow_io/python/ops/__init__.py:98: UserWarning: unable to load libtensorflow_io_plugins.so: unable to open file: libtensorflow_io_plugins.so, from paths: ['/opt/conda/lib/python3.10/site-packages/tensorflow_io/python/ops/libtensorflow_io_plugins.so']\n",
      "caused by: ['/opt/conda/lib/python3.10/site-packages/tensorflow_io/python/ops/libtensorflow_io_plugins.so: undefined symbol: _ZN3tsl6StatusC1EN10tensorflow5error4CodeESt17basic_string_viewIcSt11char_traitsIcEENS_14SourceLocationE']\n",
      "  warnings.warn(f\"unable to load libtensorflow_io_plugins.so: {e}\")\n",
      "/opt/conda/lib/python3.10/site-packages/tensorflow_io/python/ops/__init__.py:104: UserWarning: file system plugins are not loaded: unable to open file: libtensorflow_io.so, from paths: ['/opt/conda/lib/python3.10/site-packages/tensorflow_io/python/ops/libtensorflow_io.so']\n",
      "caused by: ['/opt/conda/lib/python3.10/site-packages/tensorflow_io/python/ops/libtensorflow_io.so: undefined symbol: _ZTVN10tensorflow13GcsFileSystemE']\n",
      "  warnings.warn(f\"file system plugins are not loaded: {e}\")\n"
     ]
    }
   ],
   "source": [
    "def setup_data(df):\n",
    "    '''\n",
    "    Preprocess some basic works\n",
    "    '''\n",
    "    # Drop every column except the specified column\n",
    "    df = df[['rating', 'review']]\n",
    "    # Drop Null rows\n",
    "    df = df[~(df == 'Null').any(axis=1)]\n",
    "    \n",
    "    \n",
    "    return df\n",
    "\n",
    "def remove_big_review(rev):\n",
    "    '''\n",
    "    Removes big review greter than length\n",
    "    '''\n",
    "    if len(rev)>3000:\n",
    "        rev = 'Null'\n",
    "    return rev\n",
    "\n",
    "def clean_text(test):\n",
    "    '''\n",
    "    Clean's up the unnecessary thiings of a text by replacing them with proper symbols.\n",
    "    '''\n",
    "    test = test.replace('<br/>', '')\n",
    "    test = test.replace('--', ' ')\n",
    "    test = test.replace(\"'\", '')\n",
    "    test = test.replace('\"','')\n",
    "    test = test.replace('.', '')\n",
    "    test = test.replace(',', '')\n",
    "    test = test.replace('?', '')\n",
    "    test = test.replace('!', '')\n",
    "    test = test.replace('\\n', '')\n",
    "    test = test.lower()\n",
    "    return test\n",
    "\n",
    "def stop_words(doc):\n",
    "    '''\n",
    "    Removes Words that are not that necessary for our model.\n",
    "    '''\n",
    "    # Process the document\n",
    "    doc = nlp(doc)\n",
    "\n",
    "    # List of stop words in spaCy\n",
    "    stop_words = spacy.lang.en.stop_words.STOP_WORDS\n",
    "\n",
    "    # Filter out stop words from the document\n",
    "    filtered_words = [token.text for token in doc if not token.is_stop]\n",
    "\n",
    "    # Join the filtered words back into a string\n",
    "    filtered_document = \" \".join(filtered_words)\n",
    "    \n",
    "    return filtered_document\n",
    "\n",
    "import spacy\n",
    "\n",
    "# Load the pre-trained spaCy model\n",
    "nlp = spacy.load(\"en_core_web_lg\")\n",
    "\n",
    "\n",
    "# Function to convert text to vectors using spaCy\n",
    "def text_to_vectors(text):\n",
    "    '''\n",
    "    Converts text to vector\n",
    "    '''\n",
    "    doc = nlp(text)\n",
    "    return doc.vector\n",
    "\n",
    "\n",
    "def level(x):\n",
    "    '''\n",
    "    Changes predicted levels to human brain level.\n",
    "    '''\n",
    "    if x in [10, 9]:\n",
    "        x = 0\n",
    "    elif x in [7, 8]:\n",
    "        x = 1\n",
    "    elif x in [5, 6]:\n",
    "        x = 2\n",
    "    elif x in [1, 2, 3, 4]:\n",
    "        x = 3\n",
    "    return x"
   ]
  },
  {
   "cell_type": "code",
   "execution_count": 10,
   "id": "c713ca36",
   "metadata": {
    "execution": {
     "iopub.execute_input": "2023-05-26T05:49:52.681976Z",
     "iopub.status.busy": "2023-05-26T05:49:52.681261Z",
     "iopub.status.idle": "2023-05-26T05:49:52.703342Z",
     "shell.execute_reply": "2023-05-26T05:49:52.702565Z"
    },
    "papermill": {
     "duration": 0.03671,
     "end_time": "2023-05-26T05:49:52.705279",
     "exception": false,
     "start_time": "2023-05-26T05:49:52.668569",
     "status": "completed"
    },
    "tags": []
   },
   "outputs": [
    {
     "data": {
      "text/plain": [
       "(9655, 2)"
      ]
     },
     "execution_count": 10,
     "metadata": {},
     "output_type": "execute_result"
    }
   ],
   "source": [
    "df.review = df.review.apply(remove_big_review)\n",
    "df = setup_data(df)\n",
    "df.shape"
   ]
  },
  {
   "cell_type": "code",
   "execution_count": 11,
   "id": "49b1e0d2",
   "metadata": {
    "execution": {
     "iopub.execute_input": "2023-05-26T05:49:52.729426Z",
     "iopub.status.busy": "2023-05-26T05:49:52.728655Z",
     "iopub.status.idle": "2023-05-26T05:49:53.014613Z",
     "shell.execute_reply": "2023-05-26T05:49:53.013570Z"
    },
    "papermill": {
     "duration": 0.300453,
     "end_time": "2023-05-26T05:49:53.016899",
     "exception": false,
     "start_time": "2023-05-26T05:49:52.716446",
     "status": "completed"
    },
    "tags": []
   },
   "outputs": [
    {
     "data": {
      "image/png": "[encoded data removed]",
      "text/plain": [
       "<Figure size 640x480 with 1 Axes>"
      ]
     },
     "metadata": {},
     "output_type": "display_data"
    }
   ],
   "source": [
    "df.rating.value_counts().plot(kind='bar', cmap='summer', title='Star Wars IMDb Rating');"
   ]
  },
  {
   "cell_type": "markdown",
   "id": "aafa4db5",
   "metadata": {
    "papermill": {
     "duration": 0.011181,
     "end_time": "2023-05-26T05:49:53.039685",
     "exception": false,
     "start_time": "2023-05-26T05:49:53.028504",
     "status": "completed"
    },
    "tags": []
   },
   "source": [
    "## Not using stop Words"
   ]
  },
  {
   "cell_type": "code",
   "execution_count": 12,
   "id": "9856a45e",
   "metadata": {
    "execution": {
     "iopub.execute_input": "2023-05-26T05:49:53.064780Z",
     "iopub.status.busy": "2023-05-26T05:49:53.063798Z",
     "iopub.status.idle": "2023-05-26T05:52:59.801075Z",
     "shell.execute_reply": "2023-05-26T05:52:59.800020Z"
    },
    "papermill": {
     "duration": 186.752628,
     "end_time": "2023-05-26T05:52:59.803723",
     "exception": false,
     "start_time": "2023-05-26T05:49:53.051095",
     "status": "completed"
    },
    "tags": []
   },
   "outputs": [],
   "source": [
    "# Clean the text removing unnecessary things\n",
    "df['review'] = df['review'].apply(clean_text)\n",
    "\n",
    "# Convert to vector\n",
    "df['vector'] = df['review'].apply(text_to_vectors)"
   ]
  },
  {
   "cell_type": "markdown",
   "id": "c4d421c0",
   "metadata": {
    "papermill": {
     "duration": 0.01115,
     "end_time": "2023-05-26T05:52:59.826798",
     "exception": false,
     "start_time": "2023-05-26T05:52:59.815648",
     "status": "completed"
    },
    "tags": []
   },
   "source": [
    "## Using Stop Words"
   ]
  },
  {
   "cell_type": "code",
   "execution_count": 13,
   "id": "94ebd073",
   "metadata": {
    "execution": {
     "iopub.execute_input": "2023-05-26T05:52:59.851723Z",
     "iopub.status.busy": "2023-05-26T05:52:59.851348Z",
     "iopub.status.idle": "2023-05-26T05:57:52.932677Z",
     "shell.execute_reply": "2023-05-26T05:57:52.931670Z"
    },
    "papermill": {
     "duration": 293.097153,
     "end_time": "2023-05-26T05:57:52.935548",
     "exception": false,
     "start_time": "2023-05-26T05:52:59.838395",
     "status": "completed"
    },
    "tags": []
   },
   "outputs": [],
   "source": [
    "# Clean the text removing unnecessary things\n",
    "df['review'] = df['review'].apply(clean_text)\n",
    "df['review'] = df['review'].apply(stop_words)\n",
    "\n",
    "# Convert to vector\n",
    "df['vector'] = df['review'].apply(text_to_vectors)\n"
   ]
  },
  {
   "cell_type": "code",
   "execution_count": 14,
   "id": "33b1ed02",
   "metadata": {
    "execution": {
     "iopub.execute_input": "2023-05-26T05:57:52.961445Z",
     "iopub.status.busy": "2023-05-26T05:57:52.961047Z",
     "iopub.status.idle": "2023-05-26T05:57:52.985476Z",
     "shell.execute_reply": "2023-05-26T05:57:52.984421Z"
    },
    "papermill": {
     "duration": 0.039734,
     "end_time": "2023-05-26T05:57:52.987717",
     "exception": false,
     "start_time": "2023-05-26T05:57:52.947983",
     "status": "completed"
    },
    "tags": []
   },
   "outputs": [
    {
     "data": {
      "text/html": [
       "<div>\n",
       "<style scoped>\n",
       "    .dataframe tbody tr th:only-of-type {\n",
       "        vertical-align: middle;\n",
       "    }\n",
       "\n",
       "    .dataframe tbody tr th {\n",
       "        vertical-align: top;\n",
       "    }\n",
       "\n",
       "    .dataframe thead th {\n",
       "        text-align: right;\n",
       "    }\n",
       "</style>\n",
       "<table border=\"1\" class=\"dataframe\">\n",
       "  <thead>\n",
       "    <tr style=\"text-align: right;\">\n",
       "      <th></th>\n",
       "      <th>rating</th>\n",
       "      <th>review</th>\n",
       "      <th>vector</th>\n",
       "    </tr>\n",
       "  </thead>\n",
       "  <tbody>\n",
       "    <tr>\n",
       "      <th>0</th>\n",
       "      <td>10</td>\n",
       "      <td>person saw hype claims masterpiece overreactin...</td>\n",
       "      <td>[-0.31473646, 0.20912966, -0.86060315, -1.2628...</td>\n",
       "    </tr>\n",
       "    <tr>\n",
       "      <th>1</th>\n",
       "      <td>10</td>\n",
       "      <td>movie comes truly makes impact joaquins perfor...</td>\n",
       "      <td>[-0.036105927, 1.4407943, -1.3615227, 0.157856...</td>\n",
       "    </tr>\n",
       "    <tr>\n",
       "      <th>2</th>\n",
       "      <td>10</td>\n",
       "      <td>movie felt isolated truly relate understand mo...</td>\n",
       "      <td>[-0.91238123, 0.750262, -2.4282863, -2.7551541...</td>\n",
       "    </tr>\n",
       "  </tbody>\n",
       "</table>\n",
       "</div>"
      ],
      "text/plain": [
       "  rating                                             review  \\\n",
       "0     10  person saw hype claims masterpiece overreactin...   \n",
       "1     10  movie comes truly makes impact joaquins perfor...   \n",
       "2     10  movie felt isolated truly relate understand mo...   \n",
       "\n",
       "                                              vector  \n",
       "0  [-0.31473646, 0.20912966, -0.86060315, -1.2628...  \n",
       "1  [-0.036105927, 1.4407943, -1.3615227, 0.157856...  \n",
       "2  [-0.91238123, 0.750262, -2.4282863, -2.7551541...  "
      ]
     },
     "execution_count": 14,
     "metadata": {},
     "output_type": "execute_result"
    }
   ],
   "source": [
    "df.head(3)"
   ]
  },
  {
   "cell_type": "code",
   "execution_count": 15,
   "id": "53759b6b",
   "metadata": {
    "execution": {
     "iopub.execute_input": "2023-05-26T05:57:53.013399Z",
     "iopub.status.busy": "2023-05-26T05:57:53.012951Z",
     "iopub.status.idle": "2023-05-26T05:57:53.024272Z",
     "shell.execute_reply": "2023-05-26T05:57:53.022981Z"
    },
    "papermill": {
     "duration": 0.026927,
     "end_time": "2023-05-26T05:57:53.026538",
     "exception": false,
     "start_time": "2023-05-26T05:57:52.999611",
     "status": "completed"
    },
    "tags": []
   },
   "outputs": [],
   "source": [
    "df.rating = df.rating.astype(int)\n",
    "df.rating = df.rating.apply(level)"
   ]
  },
  {
   "cell_type": "code",
   "execution_count": 16,
   "id": "530f0426",
   "metadata": {
    "execution": {
     "iopub.execute_input": "2023-05-26T05:57:53.051666Z",
     "iopub.status.busy": "2023-05-26T05:57:53.050929Z",
     "iopub.status.idle": "2023-05-26T05:57:53.277170Z",
     "shell.execute_reply": "2023-05-26T05:57:53.276088Z"
    },
    "papermill": {
     "duration": 0.241277,
     "end_time": "2023-05-26T05:57:53.279482",
     "exception": false,
     "start_time": "2023-05-26T05:57:53.038205",
     "status": "completed"
    },
    "tags": []
   },
   "outputs": [
    {
     "data": {
      "image/png": "[encoded data removed]",
      "text/plain": [
       "<Figure size 640x480 with 1 Axes>"
      ]
     },
     "metadata": {},
     "output_type": "display_data"
    }
   ],
   "source": [
    "df.rating.value_counts().plot(kind='bar', cmap='summer', title='Rating Count');"
   ]
  },
  {
   "cell_type": "code",
   "execution_count": 17,
   "id": "c1ca8ead",
   "metadata": {
    "execution": {
     "iopub.execute_input": "2023-05-26T05:57:53.305388Z",
     "iopub.status.busy": "2023-05-26T05:57:53.304351Z",
     "iopub.status.idle": "2023-05-26T05:57:53.316453Z",
     "shell.execute_reply": "2023-05-26T05:57:53.315498Z"
    },
    "papermill": {
     "duration": 0.027157,
     "end_time": "2023-05-26T05:57:53.318491",
     "exception": false,
     "start_time": "2023-05-26T05:57:53.291334",
     "status": "completed"
    },
    "tags": []
   },
   "outputs": [
    {
     "data": {
      "text/html": [
       "<div>\n",
       "<style scoped>\n",
       "    .dataframe tbody tr th:only-of-type {\n",
       "        vertical-align: middle;\n",
       "    }\n",
       "\n",
       "    .dataframe tbody tr th {\n",
       "        vertical-align: top;\n",
       "    }\n",
       "\n",
       "    .dataframe thead th {\n",
       "        text-align: right;\n",
       "    }\n",
       "</style>\n",
       "<table border=\"1\" class=\"dataframe\">\n",
       "  <thead>\n",
       "    <tr style=\"text-align: right;\">\n",
       "      <th></th>\n",
       "      <th>level</th>\n",
       "      <th>range</th>\n",
       "    </tr>\n",
       "  </thead>\n",
       "  <tbody>\n",
       "    <tr>\n",
       "      <th>0</th>\n",
       "      <td>0</td>\n",
       "      <td>[10, 9]</td>\n",
       "    </tr>\n",
       "    <tr>\n",
       "      <th>1</th>\n",
       "      <td>1</td>\n",
       "      <td>[8, 7]</td>\n",
       "    </tr>\n",
       "    <tr>\n",
       "      <th>2</th>\n",
       "      <td>2</td>\n",
       "      <td>[5, 6]</td>\n",
       "    </tr>\n",
       "    <tr>\n",
       "      <th>3</th>\n",
       "      <td>3</td>\n",
       "      <td>[1, 2, 3, 4]</td>\n",
       "    </tr>\n",
       "  </tbody>\n",
       "</table>\n",
       "</div>"
      ],
      "text/plain": [
       "   level         range\n",
       "0      0       [10, 9]\n",
       "1      1        [8, 7]\n",
       "2      2        [5, 6]\n",
       "3      3  [1, 2, 3, 4]"
      ]
     },
     "execution_count": 17,
     "metadata": {},
     "output_type": "execute_result"
    }
   ],
   "source": [
    "level_df = pd.DataFrame({'level': [0, 1, 2, 3],\n",
    "                         'range': [[10, 9], [8,7], [5,6], [1,2,3,4]]})\n",
    "level_df"
   ]
  },
  {
   "cell_type": "code",
   "execution_count": 18,
   "id": "f7db30e6",
   "metadata": {
    "execution": {
     "iopub.execute_input": "2023-05-26T05:57:53.344262Z",
     "iopub.status.busy": "2023-05-26T05:57:53.343868Z",
     "iopub.status.idle": "2023-05-26T05:57:53.357203Z",
     "shell.execute_reply": "2023-05-26T05:57:53.356192Z"
    },
    "papermill": {
     "duration": 0.028651,
     "end_time": "2023-05-26T05:57:53.359471",
     "exception": false,
     "start_time": "2023-05-26T05:57:53.330820",
     "status": "completed"
    },
    "tags": []
   },
   "outputs": [
    {
     "data": {
      "text/html": [
       "<div>\n",
       "<style scoped>\n",
       "    .dataframe tbody tr th:only-of-type {\n",
       "        vertical-align: middle;\n",
       "    }\n",
       "\n",
       "    .dataframe tbody tr th {\n",
       "        vertical-align: top;\n",
       "    }\n",
       "\n",
       "    .dataframe thead th {\n",
       "        text-align: right;\n",
       "    }\n",
       "</style>\n",
       "<table border=\"1\" class=\"dataframe\">\n",
       "  <thead>\n",
       "    <tr style=\"text-align: right;\">\n",
       "      <th></th>\n",
       "      <th>rating</th>\n",
       "      <th>review</th>\n",
       "      <th>vector</th>\n",
       "    </tr>\n",
       "  </thead>\n",
       "  <tbody>\n",
       "    <tr>\n",
       "      <th>0</th>\n",
       "      <td>0</td>\n",
       "      <td>person saw hype claims masterpiece overreactin...</td>\n",
       "      <td>[-0.31473646, 0.20912966, -0.86060315, -1.2628...</td>\n",
       "    </tr>\n",
       "    <tr>\n",
       "      <th>1</th>\n",
       "      <td>0</td>\n",
       "      <td>movie comes truly makes impact joaquins perfor...</td>\n",
       "      <td>[-0.036105927, 1.4407943, -1.3615227, 0.157856...</td>\n",
       "    </tr>\n",
       "    <tr>\n",
       "      <th>2</th>\n",
       "      <td>0</td>\n",
       "      <td>movie felt isolated truly relate understand mo...</td>\n",
       "      <td>[-0.91238123, 0.750262, -2.4282863, -2.7551541...</td>\n",
       "    </tr>\n",
       "  </tbody>\n",
       "</table>\n",
       "</div>"
      ],
      "text/plain": [
       "   rating                                             review  \\\n",
       "0       0  person saw hype claims masterpiece overreactin...   \n",
       "1       0  movie comes truly makes impact joaquins perfor...   \n",
       "2       0  movie felt isolated truly relate understand mo...   \n",
       "\n",
       "                                              vector  \n",
       "0  [-0.31473646, 0.20912966, -0.86060315, -1.2628...  \n",
       "1  [-0.036105927, 1.4407943, -1.3615227, 0.157856...  \n",
       "2  [-0.91238123, 0.750262, -2.4282863, -2.7551541...  "
      ]
     },
     "execution_count": 18,
     "metadata": {},
     "output_type": "execute_result"
    }
   ],
   "source": [
    "df.head(3)"
   ]
  },
  {
   "cell_type": "markdown",
   "id": "442a1802",
   "metadata": {
    "papermill": {
     "duration": 0.011934,
     "end_time": "2023-05-26T05:57:53.384017",
     "exception": false,
     "start_time": "2023-05-26T05:57:53.372083",
     "status": "completed"
    },
    "tags": []
   },
   "source": [
    "# Modeling"
   ]
  },
  {
   "cell_type": "markdown",
   "id": "6cb88dc9",
   "metadata": {
    "execution": {
     "iopub.execute_input": "2023-05-26T04:19:02.635092Z",
     "iopub.status.busy": "2023-05-26T04:19:02.634658Z",
     "iopub.status.idle": "2023-05-26T04:19:02.640523Z",
     "shell.execute_reply": "2023-05-26T04:19:02.639201Z",
     "shell.execute_reply.started": "2023-05-26T04:19:02.635056Z"
    },
    "papermill": {
     "duration": 0.011901,
     "end_time": "2023-05-26T05:57:53.408149",
     "exception": false,
     "start_time": "2023-05-26T05:57:53.396248",
     "status": "completed"
    },
    "tags": []
   },
   "source": [
    "## Important functions"
   ]
  },
  {
   "cell_type": "code",
   "execution_count": 19,
   "id": "f2e20f2a",
   "metadata": {
    "execution": {
     "iopub.execute_input": "2023-05-26T05:57:53.435322Z",
     "iopub.status.busy": "2023-05-26T05:57:53.434585Z",
     "iopub.status.idle": "2023-05-26T05:57:53.439956Z",
     "shell.execute_reply": "2023-05-26T05:57:53.439219Z"
    },
    "papermill": {
     "duration": 0.021327,
     "end_time": "2023-05-26T05:57:53.442116",
     "exception": false,
     "start_time": "2023-05-26T05:57:53.420789",
     "status": "completed"
    },
    "tags": []
   },
   "outputs": [],
   "source": [
    "def value_count(y_pred):\n",
    "    # Get unique values and their frequencies\n",
    "    unique_values, value_counts = np.unique(y_pred, return_counts=True)\n",
    "\n",
    "    # Print the unique values and their frequencies\n",
    "    for value, count in zip(unique_values, value_counts):\n",
    "        print(f'{value}: {count}')\n"
   ]
  },
  {
   "cell_type": "markdown",
   "id": "4897ab18",
   "metadata": {
    "papermill": {
     "duration": 0.011947,
     "end_time": "2023-05-26T05:57:53.466502",
     "exception": false,
     "start_time": "2023-05-26T05:57:53.454555",
     "status": "completed"
    },
    "tags": []
   },
   "source": [
    "## Seperate the feature and target variable"
   ]
  },
  {
   "cell_type": "code",
   "execution_count": 20,
   "id": "c32ebba9",
   "metadata": {
    "execution": {
     "iopub.execute_input": "2023-05-26T05:57:53.493567Z",
     "iopub.status.busy": "2023-05-26T05:57:53.493200Z",
     "iopub.status.idle": "2023-05-26T05:57:54.899973Z",
     "shell.execute_reply": "2023-05-26T05:57:54.898899Z"
    },
    "papermill": {
     "duration": 1.422998,
     "end_time": "2023-05-26T05:57:54.902540",
     "exception": false,
     "start_time": "2023-05-26T05:57:53.479542",
     "status": "completed"
    },
    "tags": []
   },
   "outputs": [],
   "source": [
    "from sklearn.naive_bayes import MultinomialNB\n",
    "from sklearn.ensemble import RandomForestClassifier\n",
    "from sklearn.svm import SVC\n",
    "from xgboost import XGBClassifier\n",
    "\n",
    "from sklearn.model_selection import train_test_split"
   ]
  },
  {
   "cell_type": "code",
   "execution_count": 21,
   "id": "5bda3955",
   "metadata": {
    "execution": {
     "iopub.execute_input": "2023-05-26T05:57:54.929503Z",
     "iopub.status.busy": "2023-05-26T05:57:54.928732Z",
     "iopub.status.idle": "2023-05-26T05:57:54.941956Z",
     "shell.execute_reply": "2023-05-26T05:57:54.941207Z"
    },
    "papermill": {
     "duration": 0.028519,
     "end_time": "2023-05-26T05:57:54.943776",
     "exception": false,
     "start_time": "2023-05-26T05:57:54.915257",
     "status": "completed"
    },
    "tags": []
   },
   "outputs": [
    {
     "data": {
      "text/plain": [
       "(7724, 1931, 7724, 1931)"
      ]
     },
     "execution_count": 21,
     "metadata": {},
     "output_type": "execute_result"
    }
   ],
   "source": [
    "# Set data \n",
    "X = list(df['vector'])\n",
    "y = list(df.rating.astype(int))\n",
    "# Split the data into training and testing sets\n",
    "\n",
    "np.random.seed(71)\n",
    "\n",
    "X_train, X_test, y_train, y_test = train_test_split(X, y, test_size=0.2)\n",
    "len(X_train), len(X_test), len(y_train), len(y_test)"
   ]
  },
  {
   "cell_type": "markdown",
   "id": "b8be9a7a",
   "metadata": {
    "papermill": {
     "duration": 0.012379,
     "end_time": "2023-05-26T05:57:54.968621",
     "exception": false,
     "start_time": "2023-05-26T05:57:54.956242",
     "status": "completed"
    },
    "tags": []
   },
   "source": [
    "## `RandomForestClassifier`"
   ]
  },
  {
   "cell_type": "code",
   "execution_count": 22,
   "id": "ff33f1e7",
   "metadata": {
    "execution": {
     "iopub.execute_input": "2023-05-26T05:57:54.994898Z",
     "iopub.status.busy": "2023-05-26T05:57:54.994238Z",
     "iopub.status.idle": "2023-05-26T05:58:09.807732Z",
     "shell.execute_reply": "2023-05-26T05:58:09.806568Z"
    },
    "papermill": {
     "duration": 14.829282,
     "end_time": "2023-05-26T05:58:09.810083",
     "exception": false,
     "start_time": "2023-05-26T05:57:54.980801",
     "status": "completed"
    },
    "tags": []
   },
   "outputs": [
    {
     "name": "stdout",
     "output_type": "stream",
     "text": [
      "Accuracy: 73.85%\n"
     ]
    }
   ],
   "source": [
    "# Load model\n",
    "rfc = RandomForestClassifier()\n",
    "rfc.fit(X_train, y_train)\n",
    "\n",
    "from sklearn.metrics import accuracy_score\n",
    "\n",
    "# Make predictions on the test set\n",
    "y_pred = rfc.predict(X_test)\n",
    "\n",
    "# Calculate accuracy score\n",
    "accuracy = accuracy_score(y_test, y_pred)\n",
    "\n",
    "print(f\"Accuracy: {accuracy*100:.2f}%\", )"
   ]
  },
  {
   "cell_type": "code",
   "execution_count": 23,
   "id": "f3053b2d",
   "metadata": {
    "execution": {
     "iopub.execute_input": "2023-05-26T05:58:09.837188Z",
     "iopub.status.busy": "2023-05-26T05:58:09.836785Z",
     "iopub.status.idle": "2023-05-26T05:58:09.844429Z",
     "shell.execute_reply": "2023-05-26T05:58:09.843444Z"
    },
    "papermill": {
     "duration": 0.023571,
     "end_time": "2023-05-26T05:58:09.846604",
     "exception": false,
     "start_time": "2023-05-26T05:58:09.823033",
     "status": "completed"
    },
    "tags": []
   },
   "outputs": [
    {
     "name": "stdout",
     "output_type": "stream",
     "text": [
      "0: 1899\n",
      "3: 32\n",
      "\n",
      "0: 1404\n",
      "1: 203\n",
      "2: 133\n",
      "3: 191\n"
     ]
    }
   ],
   "source": [
    "value_count(y_pred), print(),value_count(y_test);"
   ]
  },
  {
   "cell_type": "code",
   "execution_count": 24,
   "id": "80569764",
   "metadata": {
    "execution": {
     "iopub.execute_input": "2023-05-26T05:58:09.873594Z",
     "iopub.status.busy": "2023-05-26T05:58:09.873182Z",
     "iopub.status.idle": "2023-05-26T05:58:09.879880Z",
     "shell.execute_reply": "2023-05-26T05:58:09.878853Z"
    },
    "papermill": {
     "duration": 0.022624,
     "end_time": "2023-05-26T05:58:09.881915",
     "exception": false,
     "start_time": "2023-05-26T05:58:09.859291",
     "status": "completed"
    },
    "tags": []
   },
   "outputs": [
    {
     "data": {
      "text/plain": [
       "array([0, 0, 0, 0, 0, 0, 0, 0, 0, 0])"
      ]
     },
     "execution_count": 24,
     "metadata": {},
     "output_type": "execute_result"
    }
   ],
   "source": [
    "y_pred[:10]"
   ]
  },
  {
   "cell_type": "code",
   "execution_count": 25,
   "id": "5c304a65",
   "metadata": {
    "execution": {
     "iopub.execute_input": "2023-05-26T05:58:09.908721Z",
     "iopub.status.busy": "2023-05-26T05:58:09.908333Z",
     "iopub.status.idle": "2023-05-26T05:58:09.914760Z",
     "shell.execute_reply": "2023-05-26T05:58:09.913782Z"
    },
    "papermill": {
     "duration": 0.022273,
     "end_time": "2023-05-26T05:58:09.916817",
     "exception": false,
     "start_time": "2023-05-26T05:58:09.894544",
     "status": "completed"
    },
    "tags": []
   },
   "outputs": [
    {
     "data": {
      "text/plain": [
       "[0, 0, 3, 1, 1, 0, 0, 0, 0, 2]"
      ]
     },
     "execution_count": 25,
     "metadata": {},
     "output_type": "execute_result"
    }
   ],
   "source": [
    "y_test[:10]"
   ]
  },
  {
   "cell_type": "code",
   "execution_count": 26,
   "id": "b86f868d",
   "metadata": {
    "execution": {
     "iopub.execute_input": "2023-05-26T05:58:09.943758Z",
     "iopub.status.busy": "2023-05-26T05:58:09.943359Z",
     "iopub.status.idle": "2023-05-26T05:58:10.820177Z",
     "shell.execute_reply": "2023-05-26T05:58:10.819101Z"
    },
    "papermill": {
     "duration": 0.89275,
     "end_time": "2023-05-26T05:58:10.822306",
     "exception": false,
     "start_time": "2023-05-26T05:58:09.929556",
     "status": "completed"
    },
    "tags": []
   },
   "outputs": [
    {
     "data": {
      "image/png": "[encoded data removed]",
      "text/plain": [
       "<Figure size 640x480 with 2 Axes>"
      ]
     },
     "metadata": {},
     "output_type": "display_data"
    }
   ],
   "source": [
    "from sklearn.metrics import confusion_matrix\n",
    "from sklearn import metrics\n",
    "\n",
    "# Make our confusion matrixx more visual with Seaborn's heatmap()\n",
    "import seaborn as sb\n",
    "\n",
    "con_mat = confusion_matrix(y_test, y_pred)\n",
    "\n",
    "con_mat_plot = metrics.ConfusionMatrixDisplay(confusion_matrix=con_mat, display_labels=[1,2,3,4])\n",
    "con_mat_plot.plot()\n",
    "plt.show()"
   ]
  },
  {
   "cell_type": "markdown",
   "id": "c6815df5",
   "metadata": {
    "papermill": {
     "duration": 0.013053,
     "end_time": "2023-05-26T05:58:10.848562",
     "exception": false,
     "start_time": "2023-05-26T05:58:10.835509",
     "status": "completed"
    },
    "tags": []
   },
   "source": [
    "## `SupportVectorMachine`"
   ]
  },
  {
   "cell_type": "code",
   "execution_count": 27,
   "id": "89b5ede9",
   "metadata": {
    "execution": {
     "iopub.execute_input": "2023-05-26T05:58:10.876853Z",
     "iopub.status.busy": "2023-05-26T05:58:10.876453Z",
     "iopub.status.idle": "2023-05-26T05:58:21.996541Z",
     "shell.execute_reply": "2023-05-26T05:58:21.995248Z"
    },
    "papermill": {
     "duration": 11.136911,
     "end_time": "2023-05-26T05:58:21.998700",
     "exception": false,
     "start_time": "2023-05-26T05:58:10.861789",
     "status": "completed"
    },
    "tags": []
   },
   "outputs": [
    {
     "name": "stdout",
     "output_type": "stream",
     "text": [
      "Accuracy: 76.23\n"
     ]
    }
   ],
   "source": [
    "# Import SVC\n",
    "from sklearn.svm import SVC\n",
    "\n",
    "# Create and train the SVM classifier\n",
    "svm_model = SVC()\n",
    "svm_model.fit(X_train, y_train)\n",
    "\n",
    "# Make predictions\n",
    "y_preds = svm_model.predict(X_test)\n",
    "\n",
    "# Calculate accuracy score\n",
    "accuracy = accuracy_score(y_test, y_preds)\n",
    "\n",
    "print(f\"Accuracy: {accuracy*100:.2f}\")"
   ]
  },
  {
   "cell_type": "code",
   "execution_count": 28,
   "id": "51704e9b",
   "metadata": {
    "execution": {
     "iopub.execute_input": "2023-05-26T05:58:22.027562Z",
     "iopub.status.busy": "2023-05-26T05:58:22.027187Z",
     "iopub.status.idle": "2023-05-26T05:58:22.269516Z",
     "shell.execute_reply": "2023-05-26T05:58:22.268440Z"
    },
    "papermill": {
     "duration": 0.259174,
     "end_time": "2023-05-26T05:58:22.271704",
     "exception": false,
     "start_time": "2023-05-26T05:58:22.012530",
     "status": "completed"
    },
    "tags": []
   },
   "outputs": [
    {
     "data": {
      "image/png": "[encoded data removed]",
      "text/plain": [
       "<Figure size 640x480 with 2 Axes>"
      ]
     },
     "metadata": {},
     "output_type": "display_data"
    }
   ],
   "source": [
    "con_mat = confusion_matrix(y_test, y_preds)\n",
    "\n",
    "con_mat_plot = metrics.ConfusionMatrixDisplay(confusion_matrix=con_mat, display_labels=[1,2,3,4])\n",
    "con_mat_plot.plot()\n",
    "plt.show()"
   ]
  },
  {
   "cell_type": "markdown",
   "id": "24807a8a",
   "metadata": {
    "papermill": {
     "duration": 0.013099,
     "end_time": "2023-05-26T05:58:22.298555",
     "exception": false,
     "start_time": "2023-05-26T05:58:22.285456",
     "status": "completed"
    },
    "tags": []
   },
   "source": [
    "## LogisticRegression"
   ]
  },
  {
   "cell_type": "code",
   "execution_count": 29,
   "id": "d6060728",
   "metadata": {
    "execution": {
     "iopub.execute_input": "2023-05-26T05:58:22.327651Z",
     "iopub.status.busy": "2023-05-26T05:58:22.327274Z",
     "iopub.status.idle": "2023-05-26T05:58:23.299227Z",
     "shell.execute_reply": "2023-05-26T05:58:23.298145Z"
    },
    "papermill": {
     "duration": 0.990617,
     "end_time": "2023-05-26T05:58:23.302725",
     "exception": false,
     "start_time": "2023-05-26T05:58:22.312108",
     "status": "completed"
    },
    "tags": []
   },
   "outputs": [
    {
     "name": "stdout",
     "output_type": "stream",
     "text": [
      "Accuracy: 76.13\n"
     ]
    },
    {
     "name": "stderr",
     "output_type": "stream",
     "text": [
      "/opt/conda/lib/python3.10/site-packages/sklearn/linear_model/_logistic.py:458: ConvergenceWarning: lbfgs failed to converge (status=1):\n",
      "STOP: TOTAL NO. of ITERATIONS REACHED LIMIT.\n",
      "\n",
      "Increase the number of iterations (max_iter) or scale the data as shown in:\n",
      "    https://scikit-learn.org/stable/modules/preprocessing.html\n",
      "Please also refer to the documentation for alternative solver options:\n",
      "    https://scikit-learn.org/stable/modules/linear_model.html#logistic-regression\n",
      "  n_iter_i = _check_optimize_result(\n"
     ]
    }
   ],
   "source": [
    "# Import logistic regression\n",
    "from sklearn.linear_model import LogisticRegression\n",
    "\n",
    "\n",
    "# Create and train the logistic regression model\n",
    "logreg = LogisticRegression()\n",
    "logreg.fit(X_train, y_train)\n",
    "\n",
    "# Make predictions\n",
    "preds = logreg.predict(X_test)\n",
    "\n",
    "#Calculate accuracy score\n",
    "accuracy = accuracy_score(y_test, preds)\n",
    "\n",
    "print(f\"Accuracy: {accuracy*100:.2f}\", )"
   ]
  },
  {
   "cell_type": "code",
   "execution_count": 30,
   "id": "6b2eef9a",
   "metadata": {
    "execution": {
     "iopub.execute_input": "2023-05-26T05:58:23.349715Z",
     "iopub.status.busy": "2023-05-26T05:58:23.349206Z",
     "iopub.status.idle": "2023-05-26T05:58:23.606558Z",
     "shell.execute_reply": "2023-05-26T05:58:23.605455Z"
    },
    "papermill": {
     "duration": 0.284105,
     "end_time": "2023-05-26T05:58:23.608855",
     "exception": false,
     "start_time": "2023-05-26T05:58:23.324750",
     "status": "completed"
    },
    "tags": []
   },
   "outputs": [
    {
     "data": {
      "image/png": "[encoded data removed]",
      "text/plain": [
       "<Figure size 640x480 with 2 Axes>"
      ]
     },
     "metadata": {},
     "output_type": "display_data"
    }
   ],
   "source": [
    "con_mat = confusion_matrix(y_test, preds)\n",
    "con_mat\n",
    "con_mat_plot = metrics.ConfusionMatrixDisplay(confusion_matrix=con_mat, display_labels=[0,1,2,3])\n",
    "con_mat_plot.plot()\n",
    "plt.show()"
   ]
  },
  {
   "cell_type": "code",
   "execution_count": 31,
   "id": "1ae37224",
   "metadata": {
    "execution": {
     "iopub.execute_input": "2023-05-26T05:58:23.639868Z",
     "iopub.status.busy": "2023-05-26T05:58:23.639093Z",
     "iopub.status.idle": "2023-05-26T05:58:23.646179Z",
     "shell.execute_reply": "2023-05-26T05:58:23.645029Z"
    },
    "papermill": {
     "duration": 0.026016,
     "end_time": "2023-05-26T05:58:23.649624",
     "exception": false,
     "start_time": "2023-05-26T05:58:23.623608",
     "status": "completed"
    },
    "tags": []
   },
   "outputs": [
    {
     "data": {
      "text/plain": [
       "array([0, 0, 3, 0, 0, 0, 0, 0, 0, 3])"
      ]
     },
     "execution_count": 31,
     "metadata": {},
     "output_type": "execute_result"
    }
   ],
   "source": [
    "preds[:10]"
   ]
  },
  {
   "cell_type": "code",
   "execution_count": 32,
   "id": "807a1d6b",
   "metadata": {
    "execution": {
     "iopub.execute_input": "2023-05-26T05:58:23.680530Z",
     "iopub.status.busy": "2023-05-26T05:58:23.679545Z",
     "iopub.status.idle": "2023-05-26T05:58:23.686270Z",
     "shell.execute_reply": "2023-05-26T05:58:23.685449Z"
    },
    "papermill": {
     "duration": 0.024465,
     "end_time": "2023-05-26T05:58:23.688351",
     "exception": false,
     "start_time": "2023-05-26T05:58:23.663886",
     "status": "completed"
    },
    "tags": []
   },
   "outputs": [
    {
     "data": {
      "text/plain": [
       "[0, 0, 3, 1, 1, 0, 0, 0, 0, 2]"
      ]
     },
     "execution_count": 32,
     "metadata": {},
     "output_type": "execute_result"
    }
   ],
   "source": [
    "y_test[:10]"
   ]
  },
  {
   "cell_type": "markdown",
   "id": "47bee852",
   "metadata": {
    "papermill": {
     "duration": 0.014106,
     "end_time": "2023-05-26T05:58:23.716696",
     "exception": false,
     "start_time": "2023-05-26T05:58:23.702590",
     "status": "completed"
    },
    "tags": []
   },
   "source": [
    "## `XgBoostClassifier`"
   ]
  },
  {
   "cell_type": "code",
   "execution_count": 33,
   "id": "8d538a94",
   "metadata": {
    "execution": {
     "iopub.execute_input": "2023-05-26T05:58:23.747733Z",
     "iopub.status.busy": "2023-05-26T05:58:23.746702Z",
     "iopub.status.idle": "2023-05-26T06:00:01.930140Z",
     "shell.execute_reply": "2023-05-26T06:00:01.928852Z"
    },
    "papermill": {
     "duration": 98.21557,
     "end_time": "2023-05-26T06:00:01.946703",
     "exception": false,
     "start_time": "2023-05-26T05:58:23.731133",
     "status": "completed"
    },
    "tags": []
   },
   "outputs": [
    {
     "name": "stdout",
     "output_type": "stream",
     "text": [
      "Accuracy: 75.61\n"
     ]
    }
   ],
   "source": [
    "# Create and fit the XGBoost classifier\n",
    "model = XGBClassifier(num_class=4)\n",
    "model.fit(X_train, y_train)\n",
    "\n",
    "# Make predictions on the test set\n",
    "y_prd = model.predict(X_test)\n",
    "#Calculate accuracy score\n",
    "accuracy = accuracy_score(y_test, y_prd)\n",
    "\n",
    "print(f\"Accuracy: {accuracy*100:.2f}\", )"
   ]
  },
  {
   "cell_type": "code",
   "execution_count": 34,
   "id": "fdfcb43e",
   "metadata": {
    "execution": {
     "iopub.execute_input": "2023-05-26T06:00:01.977612Z",
     "iopub.status.busy": "2023-05-26T06:00:01.977227Z",
     "iopub.status.idle": "2023-05-26T06:00:02.243398Z",
     "shell.execute_reply": "2023-05-26T06:00:02.242201Z"
    },
    "papermill": {
     "duration": 0.284447,
     "end_time": "2023-05-26T06:00:02.245668",
     "exception": false,
     "start_time": "2023-05-26T06:00:01.961221",
     "status": "completed"
    },
    "tags": []
   },
   "outputs": [
    {
     "data": {
      "image/png": "[encoded data removed]",
      "text/plain": [
       "<Figure size 640x480 with 2 Axes>"
      ]
     },
     "metadata": {},
     "output_type": "display_data"
    }
   ],
   "source": [
    "con_mat = confusion_matrix(y_test, y_prd)\n",
    "con_mat\n",
    "con_mat_plot = metrics.ConfusionMatrixDisplay(confusion_matrix=con_mat, display_labels=[1,2,3,4])\n",
    "con_mat_plot.plot()\n",
    "plt.show()"
   ]
  },
  {
   "cell_type": "markdown",
   "id": "2de92808",
   "metadata": {
    "papermill": {
     "duration": 0.014706,
     "end_time": "2023-05-26T06:00:02.275556",
     "exception": false,
     "start_time": "2023-05-26T06:00:02.260850",
     "status": "completed"
    },
    "tags": []
   },
   "source": [
    "## Model Comparision"
   ]
  },
  {
   "cell_type": "code",
   "execution_count": 35,
   "id": "0955c946",
   "metadata": {
    "execution": {
     "iopub.execute_input": "2023-05-26T06:00:02.307196Z",
     "iopub.status.busy": "2023-05-26T06:00:02.306785Z",
     "iopub.status.idle": "2023-05-26T06:00:05.243938Z",
     "shell.execute_reply": "2023-05-26T06:00:05.242683Z"
    },
    "papermill": {
     "duration": 2.95708,
     "end_time": "2023-05-26T06:00:05.247575",
     "exception": false,
     "start_time": "2023-05-26T06:00:02.290495",
     "status": "completed"
    },
    "tags": []
   },
   "outputs": [
    {
     "data": {
      "text/html": [
       "<div>\n",
       "<style scoped>\n",
       "    .dataframe tbody tr th:only-of-type {\n",
       "        vertical-align: middle;\n",
       "    }\n",
       "\n",
       "    .dataframe tbody tr th {\n",
       "        vertical-align: top;\n",
       "    }\n",
       "\n",
       "    .dataframe thead th {\n",
       "        text-align: right;\n",
       "    }\n",
       "</style>\n",
       "<table border=\"1\" class=\"dataframe\">\n",
       "  <thead>\n",
       "    <tr style=\"text-align: right;\">\n",
       "      <th></th>\n",
       "      <th>name</th>\n",
       "      <th>score</th>\n",
       "    </tr>\n",
       "  </thead>\n",
       "  <tbody>\n",
       "    <tr>\n",
       "      <th>0</th>\n",
       "      <td>RFC</td>\n",
       "      <td>0.738477</td>\n",
       "    </tr>\n",
       "    <tr>\n",
       "      <th>1</th>\n",
       "      <td>SVM</td>\n",
       "      <td>0.762299</td>\n",
       "    </tr>\n",
       "    <tr>\n",
       "      <th>2</th>\n",
       "      <td>LogisticRegression</td>\n",
       "      <td>0.761264</td>\n",
       "    </tr>\n",
       "    <tr>\n",
       "      <th>3</th>\n",
       "      <td>XBClassifier</td>\n",
       "      <td>0.756085</td>\n",
       "    </tr>\n",
       "  </tbody>\n",
       "</table>\n",
       "</div>"
      ],
      "text/plain": [
       "                 name     score\n",
       "0                 RFC  0.738477\n",
       "1                 SVM  0.762299\n",
       "2  LogisticRegression  0.761264\n",
       "3        XBClassifier  0.756085"
      ]
     },
     "execution_count": 35,
     "metadata": {},
     "output_type": "execute_result"
    }
   ],
   "source": [
    "model_score = {\n",
    "    'name': ['RFC', 'SVM', 'LogisticRegression', 'XBClassifier'],\n",
    "    'score': [rfc.score(X_test, y_test), svm_model.score(X_test, y_test), logreg.score(X_test, y_test), model.score(X_test, y_test)]\n",
    "}\n",
    "# Convert the dictionary to a DataFrame\n",
    "scores = pd.DataFrame(model_score)\n",
    "\n",
    "# Print the DataFrame\n",
    "scores"
   ]
  },
  {
   "cell_type": "code",
   "execution_count": 36,
   "id": "8039edc6",
   "metadata": {
    "execution": {
     "iopub.execute_input": "2023-05-26T06:00:05.298818Z",
     "iopub.status.busy": "2023-05-26T06:00:05.298172Z",
     "iopub.status.idle": "2023-05-26T06:00:05.558020Z",
     "shell.execute_reply": "2023-05-26T06:00:05.556936Z"
    },
    "papermill": {
     "duration": 0.288315,
     "end_time": "2023-05-26T06:00:05.560430",
     "exception": false,
     "start_time": "2023-05-26T06:00:05.272115",
     "status": "completed"
    },
    "tags": []
   },
   "outputs": [
    {
     "data": {
      "image/png": "[encoded data removed]",
      "text/plain": [
       "<Figure size 600x400 with 1 Axes>"
      ]
     },
     "metadata": {},
     "output_type": "display_data"
    }
   ],
   "source": [
    "# Create a figure with a custom figsize\n",
    "\n",
    "# Plot the DataFrame\n",
    "scores.plot(x='name', y='score', kind='bar', color=['red', 'green', 'blue', 'cyan'], figsize=(6, 4), legend=False)\n",
    "# plt.legend(False)\n",
    "plt.xlabel('Model Name')\n",
    "plt.ylabel('Score')\n",
    "plt.title('Accuracy Comparision')\n",
    "\n",
    "# Display the plot\n",
    "plt.show();"
   ]
  },
  {
   "cell_type": "code",
   "execution_count": 37,
   "id": "b8b51e41",
   "metadata": {
    "execution": {
     "iopub.execute_input": "2023-05-26T06:00:05.593053Z",
     "iopub.status.busy": "2023-05-26T06:00:05.592682Z",
     "iopub.status.idle": "2023-05-26T06:00:05.598454Z",
     "shell.execute_reply": "2023-05-26T06:00:05.597184Z"
    },
    "papermill": {
     "duration": 0.0246,
     "end_time": "2023-05-26T06:00:05.600627",
     "exception": false,
     "start_time": "2023-05-26T06:00:05.576027",
     "status": "completed"
    },
    "tags": []
   },
   "outputs": [],
   "source": [
    "from sklearn.model_selection import cross_val_score\n",
    "\n",
    "def max_cv_score(model):\n",
    "    '''\n",
    "    Max Cross Val score of model\n",
    "    '''\n",
    "    ans = cross_val_score(model, X, y, cv=5)\n",
    "    print(f'Highest accuracy: {max(ans)*100:.0f}%.');"
   ]
  },
  {
   "cell_type": "code",
   "execution_count": 38,
   "id": "147eb6f9",
   "metadata": {
    "execution": {
     "iopub.execute_input": "2023-05-26T06:00:05.633092Z",
     "iopub.status.busy": "2023-05-26T06:00:05.632680Z",
     "iopub.status.idle": "2023-05-26T06:00:10.040879Z",
     "shell.execute_reply": "2023-05-26T06:00:10.039747Z"
    },
    "papermill": {
     "duration": 4.429264,
     "end_time": "2023-05-26T06:00:10.045292",
     "exception": false,
     "start_time": "2023-05-26T06:00:05.616028",
     "status": "completed"
    },
    "tags": []
   },
   "outputs": [
    {
     "name": "stderr",
     "output_type": "stream",
     "text": [
      "/opt/conda/lib/python3.10/site-packages/sklearn/linear_model/_logistic.py:458: ConvergenceWarning: lbfgs failed to converge (status=1):\n",
      "STOP: TOTAL NO. of ITERATIONS REACHED LIMIT.\n",
      "\n",
      "Increase the number of iterations (max_iter) or scale the data as shown in:\n",
      "    https://scikit-learn.org/stable/modules/preprocessing.html\n",
      "Please also refer to the documentation for alternative solver options:\n",
      "    https://scikit-learn.org/stable/modules/linear_model.html#logistic-regression\n",
      "  n_iter_i = _check_optimize_result(\n",
      "/opt/conda/lib/python3.10/site-packages/sklearn/linear_model/_logistic.py:458: ConvergenceWarning: lbfgs failed to converge (status=1):\n",
      "STOP: TOTAL NO. of ITERATIONS REACHED LIMIT.\n",
      "\n",
      "Increase the number of iterations (max_iter) or scale the data as shown in:\n",
      "    https://scikit-learn.org/stable/modules/preprocessing.html\n",
      "Please also refer to the documentation for alternative solver options:\n",
      "    https://scikit-learn.org/stable/modules/linear_model.html#logistic-regression\n",
      "  n_iter_i = _check_optimize_result(\n",
      "/opt/conda/lib/python3.10/site-packages/sklearn/linear_model/_logistic.py:458: ConvergenceWarning: lbfgs failed to converge (status=1):\n",
      "STOP: TOTAL NO. of ITERATIONS REACHED LIMIT.\n",
      "\n",
      "Increase the number of iterations (max_iter) or scale the data as shown in:\n",
      "    https://scikit-learn.org/stable/modules/preprocessing.html\n",
      "Please also refer to the documentation for alternative solver options:\n",
      "    https://scikit-learn.org/stable/modules/linear_model.html#logistic-regression\n",
      "  n_iter_i = _check_optimize_result(\n",
      "/opt/conda/lib/python3.10/site-packages/sklearn/linear_model/_logistic.py:458: ConvergenceWarning: lbfgs failed to converge (status=1):\n",
      "STOP: TOTAL NO. of ITERATIONS REACHED LIMIT.\n",
      "\n",
      "Increase the number of iterations (max_iter) or scale the data as shown in:\n",
      "    https://scikit-learn.org/stable/modules/preprocessing.html\n",
      "Please also refer to the documentation for alternative solver options:\n",
      "    https://scikit-learn.org/stable/modules/linear_model.html#logistic-regression\n",
      "  n_iter_i = _check_optimize_result(\n"
     ]
    },
    {
     "name": "stdout",
     "output_type": "stream",
     "text": [
      "Highest accuracy: 76%.\n"
     ]
    },
    {
     "name": "stderr",
     "output_type": "stream",
     "text": [
      "/opt/conda/lib/python3.10/site-packages/sklearn/linear_model/_logistic.py:458: ConvergenceWarning: lbfgs failed to converge (status=1):\n",
      "STOP: TOTAL NO. of ITERATIONS REACHED LIMIT.\n",
      "\n",
      "Increase the number of iterations (max_iter) or scale the data as shown in:\n",
      "    https://scikit-learn.org/stable/modules/preprocessing.html\n",
      "Please also refer to the documentation for alternative solver options:\n",
      "    https://scikit-learn.org/stable/modules/linear_model.html#logistic-regression\n",
      "  n_iter_i = _check_optimize_result(\n"
     ]
    }
   ],
   "source": [
    "max_cv_score(logreg)"
   ]
  },
  {
   "cell_type": "code",
   "execution_count": null,
   "id": "a23f1532",
   "metadata": {
    "papermill": {
     "duration": 0.025362,
     "end_time": "2023-05-26T06:00:10.096529",
     "exception": false,
     "start_time": "2023-05-26T06:00:10.071167",
     "status": "completed"
    },
    "tags": []
   },
   "outputs": [],
   "source": []
  }
 ],
 "metadata": {
  "kernelspec": {
   "display_name": "Python 3",
   "language": "python",
   "name": "python3"
  },
  "language_info": {
   "codemirror_mode": {
    "name": "ipython",
    "version": 3
   },
   "file_extension": ".py",
   "mimetype": "text/x-python",
   "name": "python",
   "nbconvert_exporter": "python",
   "pygments_lexer": "ipython3",
   "version": "3.10.10"
  },
  "papermill": {
   "default_parameters": {},
   "duration": 648.826977,
   "end_time": "2023-05-26T06:00:13.017798",
   "environment_variables": {},
   "exception": null,
   "input_path": "__notebook__.ipynb",
   "output_path": "__notebook__.ipynb",
   "parameters": {},
   "start_time": "2023-05-26T05:49:24.190821",
   "version": "2.4.0"
  }
 },
 "nbformat": 4,
 "nbformat_minor": 5
}
